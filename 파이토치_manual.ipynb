{
 "cells": [
  {
   "cell_type": "markdown",
   "metadata": {},
   "source": [
    "# 파이토치 이미지 로드 메뉴얼\n",
    "\n",
    "## anaconda 설치\n",
    "## 가상환경 생성\n",
    "conda create -n name python=version\n",
    "\n",
    "예시 : conda create -n torch python=3.9\n",
    "\n",
    "conda activate torch\n",
    "\n",
    "pip install jupyter\n",
    "\n",
    "파이토치 설치 명령어 :\n",
    "# 주의사항!!!!!\n",
    "아래 설치 명령어를 먼저 터미널에서 설치 후 주피터로 실행할 것.\n",
    "conda install -c conda-forge cudatoolkit=11.8.0 cudnn==8.9.2.26\n",
    "conda install pytorch==2.1.1 torchvision==0.16.1 torchaudio==2.1.1 pytorch-cuda=11.8 -c pytorch -c nvidia\n"
   ]
  },
  {
   "cell_type": "code",
   "execution_count": 2,
   "metadata": {},
   "outputs": [],
   "source": [
    "import os\n",
    "import sys\n",
    "import importlib\n"
   ]
  },
  {
   "cell_type": "code",
   "execution_count": 3,
   "metadata": {},
   "outputs": [],
   "source": [
    "try:\n",
    "    import torch\n",
    "except ImportError:\n",
    "    print('conda install -y -c conda-forge cudatoolkit=11.8.0 cudnn==8.9.2.26')\n",
    "    print('conda install -y pytorch==2.1.2 pytorch-cuda==11.8 torchaudio==2.1.2 torchvision==0.16.2 -c pytorch -c nvidia')\n",
   ]
  },
  {
   "cell_type": "code",
   "execution_count": 10,
   "metadata": {},
   "outputs": [],
   "source": [
    "import torchvision\n",
    "import torch\n",
    "from torchvision import transforms\n",
    "from torch.utils.data import Dataset, DataLoader\n",
    "import time\n",
    "import numpy as np\n",
    "try:\n",
    "    import cv2\n",
    "except ImportError:\n",
    "    os.system('pip install opencv-python')\n",
    "    import cv2\n"
   ]
  },
  {
   "cell_type": "code",
   "execution_count": 5,
   "metadata": {},
   "outputs": [],
   "source": [
    "device = torch.device('cuda:0' if torch.cuda.is_available() else 'cpu')\n",
    "torch.manual_seed(42)\n",
    "\n",
    "def custom_crop(image):\n",
    "    # 원하는 위치로 크롭 (400:600, 100:700, :)\n",
    "    image = np.array(image)\n",
    "    cropped_image = image[400:600, 100:700, :]\n",
    "    return cropped_image\n",
    "\n",
    "# 이미지 증강 및 크롭을 위한 변환 정의\n",
    "transform = transforms.Compose([\n",
    "    transforms.RandomAffine(degrees=(-10, 10), translate=(0.1, 0.1)),\n",
    "    transforms.ColorJitter(brightness=0.1),  # 밝기 조정 (±10%)\n",
    "    transforms.Lambda(lambda x: custom_crop(x)),  # 사용자 정의 크롭 함수 적용\n",
    "    transforms.ToTensor(),\n",
    "    transforms.Normalize(mean = 0.5, std = 0.5)\n",
    "])\n",
    "\n",
    "\n",
    "train_data = torchvision.datasets.ImageFolder('../cleandata/(2)', transform)\n",
    "\n",
    "train_dataloader = DataLoader(train_data,\n",
    "                              batch_size=32,\n",
    "                              shuffle=False,\n",
    "                              num_workers=4)\n",
    "\n"
   ]
  },
  {
   "cell_type": "code",
   "execution_count": 6,
   "metadata": {},
   "outputs": [
    {
     "name": "stderr",
     "output_type": "stream",
     "text": [
      "qt.qpa.xcb: X server does not support XInput 2\n",
      "failed to get the current screen resources\n",
      "qt.qpa.xcb: QXcbConnection: XCB error: 1 (BadRequest), sequence: 165, resource id: 90, major code: 130 (Unknown), minor code: 47\n",
      "qt.qpa.xcb: QXcbConnection: XCB error: 170 (Unknown), sequence: 178, resource id: 90, major code: 146 (Unknown), minor code: 20\n"
     ]
    }
   ],
   "source": [
    "# 이미지 확인하기\n",
    "x = next(iter(train_dataloader))\n",
    "image = x[0][0].numpy()\n",
    "image = np.transpose(image, (1,2,0))\n",
    "image.shape\n",
    "cv2.imshow('image', image)\n",
    "cv2.waitKey(0)\n",
    "cv2.destroyAllWindows()\n"
   ]
  },
  {
   "cell_type": "code",
   "execution_count": 7,
   "metadata": {},
   "outputs": [
    {
     "name": "stdout",
     "output_type": "stream",
     "text": [
      "loss: 0.000\n",
      "loss: 0.006\n",
      "loss: 0.004\n",
      "loss: 0.003\n",
      "loss: 0.003\n",
      "loss: 0.003\n",
      "loss: 0.003\n",
      "loss: 0.003\n",
      "loss: 0.003\n",
      "loss: 0.003\n"
     ]
    }
   ],
   "source": [
    "import torch.nn as nn\n",
    "import torch.nn.functional as F\n",
    "\n",
    "\n",
    "class CNN(nn.Module):\n",
    "    def __init__(self):\n",
    "        super().__init__()\n",
    "        self.conv1 = nn.Conv2d(in_channels=3, out_channels=8, kernel_size=4, stride=1)\n",
    "        self.conv2 = nn.Conv2d(in_channels=8, out_channels=16, kernel_size=4, stride=1)\n",
    "        self.conv3 = nn.Conv2d(in_channels=16, out_channels=32, kernel_size=4, stride=1)\n",
    "        self.pool = nn.MaxPool2d(2, 2)\n",
    "        self.fc1 = nn.Linear(32* 22* 72, 256)\n",
    "        self.fc2 = nn.Linear(256, 128)\n",
    "        self.fc3 = nn.Linear(128, 2)\n",
    "    def forward(self, x):\n",
    "        x = self.conv1(x)\n",
    "        x = F.relu(x)\n",
    "        x = self.pool(x)\n",
    "        x = self.conv2(x)\n",
    "        x = F.relu(x)\n",
    "        x = self.pool(x)\n",
    "        x = self.conv3(x)\n",
    "        x = F.relu(x)\n",
    "        x = self.pool(x)\n",
    "        # print(x.shape)\n",
    "        x = torch.flatten(x, 1)\n",
    "        x = self.fc1(x)\n",
    "        x = F.relu(x)\n",
    "        x = self.fc2(x)\n",
    "        x = F.relu(x)\n",
    "        x = self.fc3(x)\n",
    "        return x\n",
    "\n",
    "model = CNN().to(device)\n",
    "\n",
    "import torch.optim as optim\n",
    "\n",
    "criterion = nn.CrossEntropyLoss()\n",
    "optimizer = optim.SGD(model.parameters(), lr=0.001, momentum=0.9)\n",
    "\n",
    "# GPU\n",
    "num_epochs = 10  # 원하는 에포크 수 설정\n",
    "for epoch in range(num_epochs):  # 에포크 수만큼 반복\n",
    "        \n",
    "    running_loss = 0.0\n",
    "    for i, data in enumerate(train_dataloader, 0):\n",
    "        # get the inputs; data is a list of [inputs, labels]\n",
    "        inputs, labels = data[0].to(device), data[1].to(device)\n",
    "\n",
    "        # zero the parameter gradients\n",
    "        optimizer.zero_grad()\n",
    "\n",
    "        # forward + backward + optimize\n",
    "        outputs = model(inputs)\n",
    "        loss = criterion(outputs, labels)\n",
    "        loss.backward()\n",
    "        optimizer.step()\n",
    "\n",
    "    # print statistics\n",
    "    running_loss += loss.item()\n",
    "    print(f'Epoch: {epoch} loss: {running_loss / 32:.3f}')\n"
   ]
  },
  {
   "cell_type": "code",
   "execution_count": 11,
   "metadata": {},
   "outputs": [],
   "source": [
    "# GPU\n",
    "num_epochs = 10  # 원하는 에포크 수 설정\n",
    "for epoch in range(num_epochs):  # 에포크 수만큼 반복\n",
    "    start = time.time()\n",
    "    running_loss = 0.0\n",
    "    for i, data in enumerate(train_dataloader, 0):\n",
    "        # get the inputs; data is a list of [inputs, labels]\n",
    "        inputs, labels = data[0].to(device), data[1].to(device)\n",
    "\n",
    "        # zero the parameter gradients\n",
    "        optimizer.zero_grad()\n",
    "\n",
    "        # forward + backward + optimize\n",
    "        outputs = model(inputs)\n",
    "        loss = criterion(outputs, labels)\n",
    "        loss.backward()\n",
    "        optimizer.step()\n",
    "        \n",
    "    end = time.time()\n",
    "    # print statistics\n",
    "    running_loss += loss.item()\n",
    "    print(f'Time : {end - start}Epoch: {epoch} loss: {running_loss / 32:.3f}')\n"
   ]
  },
  {
   "cell_type": "code",
   "execution_count": null,
   "metadata": {},
   "outputs": [],
   "source": [
    "for epoch in range(2):  # CPU\n",
    "\n",
    "    running_loss = 0.0\n",
    "    for i, data in enumerate(train_dataloader, 0):\n",
    "        # get the inputs; data is a list of [inputs, labels]\n",
    "        inputs, labels = data\n",
    "\n",
    "        # zero the parameter gradients\n",
    "        optimizer.zero_grad()\n",
    "\n",
    "        # forward + backward + optimize\n",
    "        outputs = model(inputs)\n",
    "        loss = criterion(outputs, labels)\n",
    "        loss.backward()\n",
    "        optimizer.step()\n",
    "\n",
    "        # print statistics\n",
    "        running_loss += loss.item()\n",
    "        if i % 32 == 31:    # print every 2000 mini-batches\n",
    "            print(f'[{epoch + 1}, {i + 1:5d}] loss: {running_loss / 32:.3f}')\n",
    "            running_loss = 0.0"
   ]
  }
 ],
 "metadata": {
  "kernelspec": {
   "display_name": "torch",
   "language": "python",
   "name": "python3"
  },
  "language_info": {
   "codemirror_mode": {
    "name": "ipython",
    "version": 3
   },
   "file_extension": ".py",
   "mimetype": "text/x-python",
   "name": "python",
   "nbconvert_exporter": "python",
   "pygments_lexer": "ipython3",
   "version": "3.9.18"
  }
 },
 "nbformat": 4,
 "nbformat_minor": 2
}
